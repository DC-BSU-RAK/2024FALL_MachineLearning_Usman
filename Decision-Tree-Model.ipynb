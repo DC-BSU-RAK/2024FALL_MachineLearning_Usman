{
 "cells": [
  {
   "cell_type": "code",
   "execution_count": null,
   "id": "f18e92de",
   "metadata": {
    "papermill": {
     "duration": 0.006322,
     "end_time": "2024-11-13T06:15:04.358555",
     "exception": false,
     "start_time": "2024-11-13T06:15:04.352233",
     "status": "completed"
    },
    "tags": []
   },
   "outputs": [],
   "source": []
  },
  {
   "cell_type": "markdown",
   "id": "f55bbb0c",
   "metadata": {
    "papermill": {
     "duration": 0.005325,
     "end_time": "2024-11-13T06:15:04.369718",
     "exception": false,
     "start_time": "2024-11-13T06:15:04.364393",
     "status": "completed"
    },
    "tags": []
   },
   "source": [
    "##  Loading Libraries"
   ]
  },
  {
   "cell_type": "code",
   "execution_count": 1,
   "id": "d8a3f61b",
   "metadata": {
    "execution": {
     "iopub.execute_input": "2024-11-13T06:15:04.385595Z",
     "iopub.status.busy": "2024-11-13T06:15:04.384726Z",
     "iopub.status.idle": "2024-11-13T06:15:07.683847Z",
     "shell.execute_reply": "2024-11-13T06:15:07.682656Z"
    },
    "papermill": {
     "duration": 3.310839,
     "end_time": "2024-11-13T06:15:07.686817",
     "exception": false,
     "start_time": "2024-11-13T06:15:04.375978",
     "status": "completed"
    },
    "tags": []
   },
   "outputs": [],
   "source": [
    "import pandas as pd\n",
    "from sklearn.model_selection import train_test_split\n",
    "from sklearn.tree import DecisionTreeClassifier\n",
    "from sklearn.metrics import accuracy_score\n",
    "from sklearn.preprocessing import LabelEncoder"
   ]
  },
  {
   "cell_type": "markdown",
   "id": "cdb34a05",
   "metadata": {
    "papermill": {
     "duration": 0.005417,
     "end_time": "2024-11-13T06:15:07.698085",
     "exception": false,
     "start_time": "2024-11-13T06:15:07.692668",
     "status": "completed"
    },
    "tags": []
   },
   "source": [
    "## Loading dataset"
   ]
  },
  {
   "cell_type": "code",
   "execution_count": 2,
   "id": "3e086e20",
   "metadata": {
    "execution": {
     "iopub.execute_input": "2024-11-13T06:15:07.711712Z",
     "iopub.status.busy": "2024-11-13T06:15:07.711104Z",
     "iopub.status.idle": "2024-11-13T06:15:07.757579Z",
     "shell.execute_reply": "2024-11-13T06:15:07.756175Z"
    },
    "papermill": {
     "duration": 0.056546,
     "end_time": "2024-11-13T06:15:07.760430",
     "exception": false,
     "start_time": "2024-11-13T06:15:07.703884",
     "status": "completed"
    },
    "tags": []
   },
   "outputs": [
    {
     "data": {
      "text/html": [
       "<div>\n",
       "<style scoped>\n",
       "    .dataframe tbody tr th:only-of-type {\n",
       "        vertical-align: middle;\n",
       "    }\n",
       "\n",
       "    .dataframe tbody tr th {\n",
       "        vertical-align: top;\n",
       "    }\n",
       "\n",
       "    .dataframe thead th {\n",
       "        text-align: right;\n",
       "    }\n",
       "</style>\n",
       "<table border=\"1\" class=\"dataframe\">\n",
       "  <thead>\n",
       "    <tr style=\"text-align: right;\">\n",
       "      <th></th>\n",
       "      <th>Weather</th>\n",
       "      <th>Temperature</th>\n",
       "      <th>Humidity</th>\n",
       "      <th>Windy</th>\n",
       "      <th>Enjoy</th>\n",
       "    </tr>\n",
       "  </thead>\n",
       "  <tbody>\n",
       "    <tr>\n",
       "      <th>0</th>\n",
       "      <td>Sunny</td>\n",
       "      <td>Cool</td>\n",
       "      <td>High</td>\n",
       "      <td>No</td>\n",
       "      <td>No</td>\n",
       "    </tr>\n",
       "    <tr>\n",
       "      <th>1</th>\n",
       "      <td>Cloudy</td>\n",
       "      <td>Cool</td>\n",
       "      <td>Normal</td>\n",
       "      <td>Yes</td>\n",
       "      <td>No</td>\n",
       "    </tr>\n",
       "    <tr>\n",
       "      <th>2</th>\n",
       "      <td>Sunny</td>\n",
       "      <td>Cool</td>\n",
       "      <td>High</td>\n",
       "      <td>Yes</td>\n",
       "      <td>Yes</td>\n",
       "    </tr>\n",
       "    <tr>\n",
       "      <th>3</th>\n",
       "      <td>Cloudy</td>\n",
       "      <td>Hot</td>\n",
       "      <td>Normal</td>\n",
       "      <td>No</td>\n",
       "      <td>No</td>\n",
       "    </tr>\n",
       "    <tr>\n",
       "      <th>4</th>\n",
       "      <td>Sunny</td>\n",
       "      <td>Hot</td>\n",
       "      <td>High</td>\n",
       "      <td>Yes</td>\n",
       "      <td>No</td>\n",
       "    </tr>\n",
       "  </tbody>\n",
       "</table>\n",
       "</div>"
      ],
      "text/plain": [
       "  Weather Temperature Humidity Windy Enjoy\n",
       "0   Sunny        Cool     High    No    No\n",
       "1  Cloudy        Cool   Normal   Yes    No\n",
       "2   Sunny        Cool     High   Yes   Yes\n",
       "3  Cloudy         Hot   Normal    No    No\n",
       "4   Sunny         Hot     High   Yes    No"
      ]
     },
     "execution_count": 2,
     "metadata": {},
     "output_type": "execute_result"
    }
   ],
   "source": [
    "# Load the dataset\n",
    "df = pd.read_csv(\"/kaggle/input/outdoor-activity/Outdoor_Activity_Enjoyment_Dataset.csv\")\n",
    "df.head()"
   ]
  },
  {
   "cell_type": "markdown",
   "id": "52a17e50",
   "metadata": {
    "papermill": {
     "duration": 0.006291,
     "end_time": "2024-11-13T06:15:07.772985",
     "exception": false,
     "start_time": "2024-11-13T06:15:07.766694",
     "status": "completed"
    },
    "tags": []
   },
   "source": [
    "## Converting Catagorical Values to Numerical Values"
   ]
  },
  {
   "cell_type": "code",
   "execution_count": 3,
   "id": "e319667e",
   "metadata": {
    "execution": {
     "iopub.execute_input": "2024-11-13T06:15:07.787966Z",
     "iopub.status.busy": "2024-11-13T06:15:07.787497Z",
     "iopub.status.idle": "2024-11-13T06:15:07.805600Z",
     "shell.execute_reply": "2024-11-13T06:15:07.804389Z"
    },
    "papermill": {
     "duration": 0.029228,
     "end_time": "2024-11-13T06:15:07.808712",
     "exception": false,
     "start_time": "2024-11-13T06:15:07.779484",
     "status": "completed"
    },
    "tags": []
   },
   "outputs": [
    {
     "name": "stdout",
     "output_type": "stream",
     "text": [
      "    Weather  Temperature  Humidity  Windy  Enjoy\n",
      "0         2            0         0      0      0\n",
      "1         0            0         1      1      0\n",
      "2         2            0         0      1      1\n",
      "3         0            1         1      0      0\n",
      "4         2            1         0      1      0\n",
      "..      ...          ...       ...    ...    ...\n",
      "95        2            1         0      0      0\n",
      "96        2            1         1      1      1\n",
      "97        0            1         1      0      1\n",
      "98        2            1         1      1      0\n",
      "99        1            0         0      0      0\n",
      "\n",
      "[100 rows x 5 columns]\n"
     ]
    }
   ],
   "source": [
    "label_encoders = {}\n",
    "for column in df.columns:\n",
    "    le = LabelEncoder()\n",
    "    df[column] = le.fit_transform(df[column])\n",
    "    label_encoders[column] = le \n",
    "    \n",
    "print(df)"
   ]
  },
  {
   "cell_type": "code",
   "execution_count": 4,
   "id": "e99a52be",
   "metadata": {
    "execution": {
     "iopub.execute_input": "2024-11-13T06:15:07.823001Z",
     "iopub.status.busy": "2024-11-13T06:15:07.822507Z",
     "iopub.status.idle": "2024-11-13T06:15:07.831448Z",
     "shell.execute_reply": "2024-11-13T06:15:07.830175Z"
    },
    "papermill": {
     "duration": 0.018754,
     "end_time": "2024-11-13T06:15:07.833937",
     "exception": false,
     "start_time": "2024-11-13T06:15:07.815183",
     "status": "completed"
    },
    "tags": []
   },
   "outputs": [],
   "source": [
    "X = df.drop(\"Enjoy\", axis=1)  # Features\n",
    "y = df[\"Enjoy\"]  # Target variabl"
   ]
  },
  {
   "cell_type": "markdown",
   "id": "dad8e0fe",
   "metadata": {
    "papermill": {
     "duration": 0.005914,
     "end_time": "2024-11-13T06:15:07.847047",
     "exception": false,
     "start_time": "2024-11-13T06:15:07.841133",
     "status": "completed"
    },
    "tags": []
   },
   "source": [
    "## Splitting the data intro Training and Testing Sets"
   ]
  },
  {
   "cell_type": "code",
   "execution_count": 5,
   "id": "00534f7a",
   "metadata": {
    "execution": {
     "iopub.execute_input": "2024-11-13T06:15:07.861263Z",
     "iopub.status.busy": "2024-11-13T06:15:07.860830Z",
     "iopub.status.idle": "2024-11-13T06:15:07.873005Z",
     "shell.execute_reply": "2024-11-13T06:15:07.871418Z"
    },
    "papermill": {
     "duration": 0.022991,
     "end_time": "2024-11-13T06:15:07.876098",
     "exception": false,
     "start_time": "2024-11-13T06:15:07.853107",
     "status": "completed"
    },
    "tags": []
   },
   "outputs": [],
   "source": [
    "X_train, X_test, y_train, y_test = train_test_split(X, y, test_size=0.2, random_state=42)"
   ]
  },
  {
   "cell_type": "markdown",
   "id": "a365bce6",
   "metadata": {
    "papermill": {
     "duration": 0.006069,
     "end_time": "2024-11-13T06:15:07.889140",
     "exception": false,
     "start_time": "2024-11-13T06:15:07.883071",
     "status": "completed"
    },
    "tags": []
   },
   "source": [
    "## Initialize and train the decision tree classifier"
   ]
  },
  {
   "cell_type": "code",
   "execution_count": 6,
   "id": "78705d50",
   "metadata": {
    "execution": {
     "iopub.execute_input": "2024-11-13T06:15:07.903364Z",
     "iopub.status.busy": "2024-11-13T06:15:07.902934Z",
     "iopub.status.idle": "2024-11-13T06:15:07.923017Z",
     "shell.execute_reply": "2024-11-13T06:15:07.921823Z"
    },
    "papermill": {
     "duration": 0.030228,
     "end_time": "2024-11-13T06:15:07.925645",
     "exception": false,
     "start_time": "2024-11-13T06:15:07.895417",
     "status": "completed"
    },
    "tags": []
   },
   "outputs": [
    {
     "data": {
      "text/html": [
       "<style>#sk-container-id-1 {color: black;background-color: white;}#sk-container-id-1 pre{padding: 0;}#sk-container-id-1 div.sk-toggleable {background-color: white;}#sk-container-id-1 label.sk-toggleable__label {cursor: pointer;display: block;width: 100%;margin-bottom: 0;padding: 0.3em;box-sizing: border-box;text-align: center;}#sk-container-id-1 label.sk-toggleable__label-arrow:before {content: \"▸\";float: left;margin-right: 0.25em;color: #696969;}#sk-container-id-1 label.sk-toggleable__label-arrow:hover:before {color: black;}#sk-container-id-1 div.sk-estimator:hover label.sk-toggleable__label-arrow:before {color: black;}#sk-container-id-1 div.sk-toggleable__content {max-height: 0;max-width: 0;overflow: hidden;text-align: left;background-color: #f0f8ff;}#sk-container-id-1 div.sk-toggleable__content pre {margin: 0.2em;color: black;border-radius: 0.25em;background-color: #f0f8ff;}#sk-container-id-1 input.sk-toggleable__control:checked~div.sk-toggleable__content {max-height: 200px;max-width: 100%;overflow: auto;}#sk-container-id-1 input.sk-toggleable__control:checked~label.sk-toggleable__label-arrow:before {content: \"▾\";}#sk-container-id-1 div.sk-estimator input.sk-toggleable__control:checked~label.sk-toggleable__label {background-color: #d4ebff;}#sk-container-id-1 div.sk-label input.sk-toggleable__control:checked~label.sk-toggleable__label {background-color: #d4ebff;}#sk-container-id-1 input.sk-hidden--visually {border: 0;clip: rect(1px 1px 1px 1px);clip: rect(1px, 1px, 1px, 1px);height: 1px;margin: -1px;overflow: hidden;padding: 0;position: absolute;width: 1px;}#sk-container-id-1 div.sk-estimator {font-family: monospace;background-color: #f0f8ff;border: 1px dotted black;border-radius: 0.25em;box-sizing: border-box;margin-bottom: 0.5em;}#sk-container-id-1 div.sk-estimator:hover {background-color: #d4ebff;}#sk-container-id-1 div.sk-parallel-item::after {content: \"\";width: 100%;border-bottom: 1px solid gray;flex-grow: 1;}#sk-container-id-1 div.sk-label:hover label.sk-toggleable__label {background-color: #d4ebff;}#sk-container-id-1 div.sk-serial::before {content: \"\";position: absolute;border-left: 1px solid gray;box-sizing: border-box;top: 0;bottom: 0;left: 50%;z-index: 0;}#sk-container-id-1 div.sk-serial {display: flex;flex-direction: column;align-items: center;background-color: white;padding-right: 0.2em;padding-left: 0.2em;position: relative;}#sk-container-id-1 div.sk-item {position: relative;z-index: 1;}#sk-container-id-1 div.sk-parallel {display: flex;align-items: stretch;justify-content: center;background-color: white;position: relative;}#sk-container-id-1 div.sk-item::before, #sk-container-id-1 div.sk-parallel-item::before {content: \"\";position: absolute;border-left: 1px solid gray;box-sizing: border-box;top: 0;bottom: 0;left: 50%;z-index: -1;}#sk-container-id-1 div.sk-parallel-item {display: flex;flex-direction: column;z-index: 1;position: relative;background-color: white;}#sk-container-id-1 div.sk-parallel-item:first-child::after {align-self: flex-end;width: 50%;}#sk-container-id-1 div.sk-parallel-item:last-child::after {align-self: flex-start;width: 50%;}#sk-container-id-1 div.sk-parallel-item:only-child::after {width: 0;}#sk-container-id-1 div.sk-dashed-wrapped {border: 1px dashed gray;margin: 0 0.4em 0.5em 0.4em;box-sizing: border-box;padding-bottom: 0.4em;background-color: white;}#sk-container-id-1 div.sk-label label {font-family: monospace;font-weight: bold;display: inline-block;line-height: 1.2em;}#sk-container-id-1 div.sk-label-container {text-align: center;}#sk-container-id-1 div.sk-container {/* jupyter's `normalize.less` sets `[hidden] { display: none; }` but bootstrap.min.css set `[hidden] { display: none !important; }` so we also need the `!important` here to be able to override the default hidden behavior on the sphinx rendered scikit-learn.org. See: https://github.com/scikit-learn/scikit-learn/issues/21755 */display: inline-block !important;position: relative;}#sk-container-id-1 div.sk-text-repr-fallback {display: none;}</style><div id=\"sk-container-id-1\" class=\"sk-top-container\"><div class=\"sk-text-repr-fallback\"><pre>DecisionTreeClassifier(random_state=42)</pre><b>In a Jupyter environment, please rerun this cell to show the HTML representation or trust the notebook. <br />On GitHub, the HTML representation is unable to render, please try loading this page with nbviewer.org.</b></div><div class=\"sk-container\" hidden><div class=\"sk-item\"><div class=\"sk-estimator sk-toggleable\"><input class=\"sk-toggleable__control sk-hidden--visually\" id=\"sk-estimator-id-1\" type=\"checkbox\" checked><label for=\"sk-estimator-id-1\" class=\"sk-toggleable__label sk-toggleable__label-arrow\">DecisionTreeClassifier</label><div class=\"sk-toggleable__content\"><pre>DecisionTreeClassifier(random_state=42)</pre></div></div></div></div></div>"
      ],
      "text/plain": [
       "DecisionTreeClassifier(random_state=42)"
      ]
     },
     "execution_count": 6,
     "metadata": {},
     "output_type": "execute_result"
    }
   ],
   "source": [
    "clf = DecisionTreeClassifier(random_state=42)\n",
    "clf.fit(X_train, y_train)"
   ]
  },
  {
   "cell_type": "markdown",
   "id": "1047df00",
   "metadata": {
    "papermill": {
     "duration": 0.006058,
     "end_time": "2024-11-13T06:15:07.938889",
     "exception": false,
     "start_time": "2024-11-13T06:15:07.932831",
     "status": "completed"
    },
    "tags": []
   },
   "source": [
    "## Make predictions on the test data"
   ]
  },
  {
   "cell_type": "code",
   "execution_count": 7,
   "id": "95d4ffcb",
   "metadata": {
    "execution": {
     "iopub.execute_input": "2024-11-13T06:15:07.953806Z",
     "iopub.status.busy": "2024-11-13T06:15:07.953325Z",
     "iopub.status.idle": "2024-11-13T06:15:07.961271Z",
     "shell.execute_reply": "2024-11-13T06:15:07.960278Z"
    },
    "papermill": {
     "duration": 0.01858,
     "end_time": "2024-11-13T06:15:07.963891",
     "exception": false,
     "start_time": "2024-11-13T06:15:07.945311",
     "status": "completed"
    },
    "tags": []
   },
   "outputs": [],
   "source": [
    "y_pred = clf.predict(X_test)"
   ]
  },
  {
   "cell_type": "markdown",
   "id": "c7a14dcd",
   "metadata": {
    "papermill": {
     "duration": 0.006122,
     "end_time": "2024-11-13T06:15:07.976649",
     "exception": false,
     "start_time": "2024-11-13T06:15:07.970527",
     "status": "completed"
    },
    "tags": []
   },
   "source": [
    "## Evaluation of the Model"
   ]
  },
  {
   "cell_type": "code",
   "execution_count": 8,
   "id": "9bc8ee94",
   "metadata": {
    "execution": {
     "iopub.execute_input": "2024-11-13T06:15:07.991656Z",
     "iopub.status.busy": "2024-11-13T06:15:07.991181Z",
     "iopub.status.idle": "2024-11-13T06:15:07.999203Z",
     "shell.execute_reply": "2024-11-13T06:15:07.998064Z"
    },
    "papermill": {
     "duration": 0.019043,
     "end_time": "2024-11-13T06:15:08.001958",
     "exception": false,
     "start_time": "2024-11-13T06:15:07.982915",
     "status": "completed"
    },
    "tags": []
   },
   "outputs": [
    {
     "name": "stdout",
     "output_type": "stream",
     "text": [
      "Model Accuracy: 50.00%\n"
     ]
    }
   ],
   "source": [
    "accuracy = accuracy_score(y_test, y_pred)\n",
    "print(f\"Model Accuracy: {accuracy * 100:.2f}%\")"
   ]
  },
  {
   "cell_type": "markdown",
   "id": "4bc255ad",
   "metadata": {
    "papermill": {
     "duration": 0.006084,
     "end_time": "2024-11-13T06:15:08.015013",
     "exception": false,
     "start_time": "2024-11-13T06:15:08.008929",
     "status": "completed"
    },
    "tags": []
   },
   "source": []
  },
  {
   "cell_type": "markdown",
   "id": "87d33727",
   "metadata": {
    "papermill": {
     "duration": 0.006195,
     "end_time": "2024-11-13T06:15:08.027491",
     "exception": false,
     "start_time": "2024-11-13T06:15:08.021296",
     "status": "completed"
    },
    "tags": []
   },
   "source": []
  }
 ],
 "metadata": {
  "kaggle": {
   "accelerator": "none",
   "dataSources": [
    {
     "datasetId": 6073920,
     "sourceId": 9890177,
     "sourceType": "datasetVersion"
    }
   ],
   "dockerImageVersionId": 30786,
   "isGpuEnabled": false,
   "isInternetEnabled": true,
   "language": "python",
   "sourceType": "notebook"
  },
  "kernelspec": {
   "display_name": "Python 3",
   "language": "python",
   "name": "python3"
  },
  "language_info": {
   "codemirror_mode": {
    "name": "ipython",
    "version": 3
   },
   "file_extension": ".py",
   "mimetype": "text/x-python",
   "name": "python",
   "nbconvert_exporter": "python",
   "pygments_lexer": "ipython3",
   "version": "3.10.14"
  },
  "papermill": {
   "default_parameters": {},
   "duration": 7.898839,
   "end_time": "2024-11-13T06:15:08.757991",
   "environment_variables": {},
   "exception": null,
   "input_path": "__notebook__.ipynb",
   "output_path": "__notebook__.ipynb",
   "parameters": {},
   "start_time": "2024-11-13T06:15:00.859152",
   "version": "2.6.0"
  }
 },
 "nbformat": 4,
 "nbformat_minor": 5
}
