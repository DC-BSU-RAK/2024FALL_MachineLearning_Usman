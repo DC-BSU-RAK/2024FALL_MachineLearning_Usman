{
 "cells": [
  {
   "cell_type": "markdown",
   "id": "ff05b21c",
   "metadata": {
    "papermill": {
     "duration": 0.00499,
     "end_time": "2024-10-23T04:11:59.666633",
     "exception": false,
     "start_time": "2024-10-23T04:11:59.661643",
     "status": "completed"
    },
    "tags": []
   },
   "source": [
    "##  Loadind Dataset and Libraries"
   ]
  },
  {
   "cell_type": "code",
   "execution_count": 1,
   "id": "4e78a0f3",
   "metadata": {
    "execution": {
     "iopub.execute_input": "2024-10-23T04:11:59.676956Z",
     "iopub.status.busy": "2024-10-23T04:11:59.676405Z",
     "iopub.status.idle": "2024-10-23T04:12:03.335061Z",
     "shell.execute_reply": "2024-10-23T04:12:03.333671Z"
    },
    "papermill": {
     "duration": 3.667655,
     "end_time": "2024-10-23T04:12:03.338463",
     "exception": false,
     "start_time": "2024-10-23T04:11:59.670808",
     "status": "completed"
    },
    "tags": []
   },
   "outputs": [],
   "source": [
    "import pandas as pd\n",
    "import numpy as np\n",
    "import seaborn as sns\n",
    "import matplotlib.pyplot as plt\n",
    "from sklearn.datasets import load_iris\n",
    "from sklearn.model_selection import train_test_split\n",
    "from sklearn.neighbors import KNeighborsClassifier\n",
    "from sklearn.metrics import accuracy_score, classification_report\n"
   ]
  },
  {
   "cell_type": "markdown",
   "id": "179fed5a",
   "metadata": {
    "papermill": {
     "duration": 0.003774,
     "end_time": "2024-10-23T04:12:03.346628",
     "exception": false,
     "start_time": "2024-10-23T04:12:03.342854",
     "status": "completed"
    },
    "tags": []
   },
   "source": [
    "## Load the Iris Dataset"
   ]
  },
  {
   "cell_type": "code",
   "execution_count": 2,
   "id": "7b381015",
   "metadata": {
    "execution": {
     "iopub.execute_input": "2024-10-23T04:12:03.356922Z",
     "iopub.status.busy": "2024-10-23T04:12:03.356277Z",
     "iopub.status.idle": "2024-10-23T04:12:03.405322Z",
     "shell.execute_reply": "2024-10-23T04:12:03.403710Z"
    },
    "papermill": {
     "duration": 0.057647,
     "end_time": "2024-10-23T04:12:03.408368",
     "exception": false,
     "start_time": "2024-10-23T04:12:03.350721",
     "status": "completed"
    },
    "tags": []
   },
   "outputs": [
    {
     "data": {
      "text/html": [
       "<div>\n",
       "<style scoped>\n",
       "    .dataframe tbody tr th:only-of-type {\n",
       "        vertical-align: middle;\n",
       "    }\n",
       "\n",
       "    .dataframe tbody tr th {\n",
       "        vertical-align: top;\n",
       "    }\n",
       "\n",
       "    .dataframe thead th {\n",
       "        text-align: right;\n",
       "    }\n",
       "</style>\n",
       "<table border=\"1\" class=\"dataframe\">\n",
       "  <thead>\n",
       "    <tr style=\"text-align: right;\">\n",
       "      <th></th>\n",
       "      <th>sepal length (cm)</th>\n",
       "      <th>sepal width (cm)</th>\n",
       "      <th>petal length (cm)</th>\n",
       "      <th>petal width (cm)</th>\n",
       "      <th>species</th>\n",
       "    </tr>\n",
       "  </thead>\n",
       "  <tbody>\n",
       "    <tr>\n",
       "      <th>0</th>\n",
       "      <td>5.1</td>\n",
       "      <td>3.5</td>\n",
       "      <td>1.4</td>\n",
       "      <td>0.2</td>\n",
       "      <td>Iris-setosa</td>\n",
       "    </tr>\n",
       "    <tr>\n",
       "      <th>1</th>\n",
       "      <td>4.9</td>\n",
       "      <td>3.0</td>\n",
       "      <td>1.4</td>\n",
       "      <td>0.2</td>\n",
       "      <td>Iris-setosa</td>\n",
       "    </tr>\n",
       "    <tr>\n",
       "      <th>2</th>\n",
       "      <td>4.7</td>\n",
       "      <td>3.2</td>\n",
       "      <td>1.3</td>\n",
       "      <td>0.2</td>\n",
       "      <td>Iris-setosa</td>\n",
       "    </tr>\n",
       "    <tr>\n",
       "      <th>3</th>\n",
       "      <td>4.6</td>\n",
       "      <td>3.1</td>\n",
       "      <td>1.5</td>\n",
       "      <td>0.2</td>\n",
       "      <td>Iris-setosa</td>\n",
       "    </tr>\n",
       "    <tr>\n",
       "      <th>4</th>\n",
       "      <td>5.0</td>\n",
       "      <td>3.6</td>\n",
       "      <td>1.4</td>\n",
       "      <td>0.2</td>\n",
       "      <td>Iris-setosa</td>\n",
       "    </tr>\n",
       "  </tbody>\n",
       "</table>\n",
       "</div>"
      ],
      "text/plain": [
       "   sepal length (cm)  sepal width (cm)  petal length (cm)  petal width (cm)  \\\n",
       "0                5.1               3.5                1.4               0.2   \n",
       "1                4.9               3.0                1.4               0.2   \n",
       "2                4.7               3.2                1.3               0.2   \n",
       "3                4.6               3.1                1.5               0.2   \n",
       "4                5.0               3.6                1.4               0.2   \n",
       "\n",
       "       species  \n",
       "0  Iris-setosa  \n",
       "1  Iris-setosa  \n",
       "2  Iris-setosa  \n",
       "3  Iris-setosa  \n",
       "4  Iris-setosa  "
      ]
     },
     "execution_count": 2,
     "metadata": {},
     "output_type": "execute_result"
    }
   ],
   "source": [
    "# Load the Iris dataset\n",
    "iris = load_iris()\n",
    "\n",
    "# Create a DataFrame from the dataset\n",
    "df = pd.DataFrame(data=iris.data, columns=iris.feature_names)\n",
    "\n",
    "# Add a column for the target species\n",
    "df['species'] = iris.target\n",
    "\n",
    "# Map the target labels (0, 1, 2) to their corresponding species names\n",
    "df['species'] = df['species'].map({0: 'Iris-setosa', 1: 'Iris-versicolor', 2: 'Iris-virginica'})\n",
    "\n",
    "# View the first few rows of the DataFrame\n",
    "df.head()\n"
   ]
  },
  {
   "cell_type": "markdown",
   "id": "08434366",
   "metadata": {
    "papermill": {
     "duration": 0.004059,
     "end_time": "2024-10-23T04:12:03.417089",
     "exception": false,
     "start_time": "2024-10-23T04:12:03.413030",
     "status": "completed"
    },
    "tags": []
   },
   "source": [
    "## Data Preprocessing"
   ]
  },
  {
   "cell_type": "code",
   "execution_count": 3,
   "id": "4c85bd10",
   "metadata": {
    "execution": {
     "iopub.execute_input": "2024-10-23T04:12:03.427832Z",
     "iopub.status.busy": "2024-10-23T04:12:03.427321Z",
     "iopub.status.idle": "2024-10-23T04:12:03.436688Z",
     "shell.execute_reply": "2024-10-23T04:12:03.435205Z"
    },
    "papermill": {
     "duration": 0.018326,
     "end_time": "2024-10-23T04:12:03.439771",
     "exception": false,
     "start_time": "2024-10-23T04:12:03.421445",
     "status": "completed"
    },
    "tags": []
   },
   "outputs": [],
   "source": [
    "# Define the features (X) and the target (y)\n",
    "X = df.drop('species', axis=1)  # Features\n",
    "y = df['species']  # Target\n"
   ]
  },
  {
   "cell_type": "markdown",
   "id": "47a5b728",
   "metadata": {
    "papermill": {
     "duration": 0.004237,
     "end_time": "2024-10-23T04:12:03.448961",
     "exception": false,
     "start_time": "2024-10-23T04:12:03.444724",
     "status": "completed"
    },
    "tags": []
   },
   "source": [
    "## Split the Data into Training and Testing Sets"
   ]
  },
  {
   "cell_type": "code",
   "execution_count": 4,
   "id": "304f0f9d",
   "metadata": {
    "execution": {
     "iopub.execute_input": "2024-10-23T04:12:03.459753Z",
     "iopub.status.busy": "2024-10-23T04:12:03.459267Z",
     "iopub.status.idle": "2024-10-23T04:12:03.471632Z",
     "shell.execute_reply": "2024-10-23T04:12:03.470074Z"
    },
    "papermill": {
     "duration": 0.021876,
     "end_time": "2024-10-23T04:12:03.475230",
     "exception": false,
     "start_time": "2024-10-23T04:12:03.453354",
     "status": "completed"
    },
    "tags": []
   },
   "outputs": [],
   "source": [
    "# Split the data into training and testing sets (80% training, 20% testing)\n",
    "X_train, X_test, y_train, y_test = train_test_split(X, y, test_size=0.2, random_state=42)\n"
   ]
  },
  {
   "cell_type": "markdown",
   "id": "950a4ae1",
   "metadata": {
    "papermill": {
     "duration": 0.004127,
     "end_time": "2024-10-23T04:12:03.483773",
     "exception": false,
     "start_time": "2024-10-23T04:12:03.479646",
     "status": "completed"
    },
    "tags": []
   },
   "source": [
    "## Train the KNN Classifier"
   ]
  },
  {
   "cell_type": "code",
   "execution_count": 5,
   "id": "d8b40e07",
   "metadata": {
    "execution": {
     "iopub.execute_input": "2024-10-23T04:12:03.497079Z",
     "iopub.status.busy": "2024-10-23T04:12:03.496577Z",
     "iopub.status.idle": "2024-10-23T04:12:03.515216Z",
     "shell.execute_reply": "2024-10-23T04:12:03.513972Z"
    },
    "papermill": {
     "duration": 0.02766,
     "end_time": "2024-10-23T04:12:03.518096",
     "exception": false,
     "start_time": "2024-10-23T04:12:03.490436",
     "status": "completed"
    },
    "tags": []
   },
   "outputs": [
    {
     "data": {
      "text/html": [
       "<style>#sk-container-id-1 {color: black;background-color: white;}#sk-container-id-1 pre{padding: 0;}#sk-container-id-1 div.sk-toggleable {background-color: white;}#sk-container-id-1 label.sk-toggleable__label {cursor: pointer;display: block;width: 100%;margin-bottom: 0;padding: 0.3em;box-sizing: border-box;text-align: center;}#sk-container-id-1 label.sk-toggleable__label-arrow:before {content: \"▸\";float: left;margin-right: 0.25em;color: #696969;}#sk-container-id-1 label.sk-toggleable__label-arrow:hover:before {color: black;}#sk-container-id-1 div.sk-estimator:hover label.sk-toggleable__label-arrow:before {color: black;}#sk-container-id-1 div.sk-toggleable__content {max-height: 0;max-width: 0;overflow: hidden;text-align: left;background-color: #f0f8ff;}#sk-container-id-1 div.sk-toggleable__content pre {margin: 0.2em;color: black;border-radius: 0.25em;background-color: #f0f8ff;}#sk-container-id-1 input.sk-toggleable__control:checked~div.sk-toggleable__content {max-height: 200px;max-width: 100%;overflow: auto;}#sk-container-id-1 input.sk-toggleable__control:checked~label.sk-toggleable__label-arrow:before {content: \"▾\";}#sk-container-id-1 div.sk-estimator input.sk-toggleable__control:checked~label.sk-toggleable__label {background-color: #d4ebff;}#sk-container-id-1 div.sk-label input.sk-toggleable__control:checked~label.sk-toggleable__label {background-color: #d4ebff;}#sk-container-id-1 input.sk-hidden--visually {border: 0;clip: rect(1px 1px 1px 1px);clip: rect(1px, 1px, 1px, 1px);height: 1px;margin: -1px;overflow: hidden;padding: 0;position: absolute;width: 1px;}#sk-container-id-1 div.sk-estimator {font-family: monospace;background-color: #f0f8ff;border: 1px dotted black;border-radius: 0.25em;box-sizing: border-box;margin-bottom: 0.5em;}#sk-container-id-1 div.sk-estimator:hover {background-color: #d4ebff;}#sk-container-id-1 div.sk-parallel-item::after {content: \"\";width: 100%;border-bottom: 1px solid gray;flex-grow: 1;}#sk-container-id-1 div.sk-label:hover label.sk-toggleable__label {background-color: #d4ebff;}#sk-container-id-1 div.sk-serial::before {content: \"\";position: absolute;border-left: 1px solid gray;box-sizing: border-box;top: 0;bottom: 0;left: 50%;z-index: 0;}#sk-container-id-1 div.sk-serial {display: flex;flex-direction: column;align-items: center;background-color: white;padding-right: 0.2em;padding-left: 0.2em;position: relative;}#sk-container-id-1 div.sk-item {position: relative;z-index: 1;}#sk-container-id-1 div.sk-parallel {display: flex;align-items: stretch;justify-content: center;background-color: white;position: relative;}#sk-container-id-1 div.sk-item::before, #sk-container-id-1 div.sk-parallel-item::before {content: \"\";position: absolute;border-left: 1px solid gray;box-sizing: border-box;top: 0;bottom: 0;left: 50%;z-index: -1;}#sk-container-id-1 div.sk-parallel-item {display: flex;flex-direction: column;z-index: 1;position: relative;background-color: white;}#sk-container-id-1 div.sk-parallel-item:first-child::after {align-self: flex-end;width: 50%;}#sk-container-id-1 div.sk-parallel-item:last-child::after {align-self: flex-start;width: 50%;}#sk-container-id-1 div.sk-parallel-item:only-child::after {width: 0;}#sk-container-id-1 div.sk-dashed-wrapped {border: 1px dashed gray;margin: 0 0.4em 0.5em 0.4em;box-sizing: border-box;padding-bottom: 0.4em;background-color: white;}#sk-container-id-1 div.sk-label label {font-family: monospace;font-weight: bold;display: inline-block;line-height: 1.2em;}#sk-container-id-1 div.sk-label-container {text-align: center;}#sk-container-id-1 div.sk-container {/* jupyter's `normalize.less` sets `[hidden] { display: none; }` but bootstrap.min.css set `[hidden] { display: none !important; }` so we also need the `!important` here to be able to override the default hidden behavior on the sphinx rendered scikit-learn.org. See: https://github.com/scikit-learn/scikit-learn/issues/21755 */display: inline-block !important;position: relative;}#sk-container-id-1 div.sk-text-repr-fallback {display: none;}</style><div id=\"sk-container-id-1\" class=\"sk-top-container\"><div class=\"sk-text-repr-fallback\"><pre>KNeighborsClassifier()</pre><b>In a Jupyter environment, please rerun this cell to show the HTML representation or trust the notebook. <br />On GitHub, the HTML representation is unable to render, please try loading this page with nbviewer.org.</b></div><div class=\"sk-container\" hidden><div class=\"sk-item\"><div class=\"sk-estimator sk-toggleable\"><input class=\"sk-toggleable__control sk-hidden--visually\" id=\"sk-estimator-id-1\" type=\"checkbox\" checked><label for=\"sk-estimator-id-1\" class=\"sk-toggleable__label sk-toggleable__label-arrow\">KNeighborsClassifier</label><div class=\"sk-toggleable__content\"><pre>KNeighborsClassifier()</pre></div></div></div></div></div>"
      ],
      "text/plain": [
       "KNeighborsClassifier()"
      ]
     },
     "execution_count": 5,
     "metadata": {},
     "output_type": "execute_result"
    }
   ],
   "source": [
    "# Initialize the KNN classifier with k=5\n",
    "knn = KNeighborsClassifier(n_neighbors=5)\n",
    "\n",
    "# Train the model on the training data\n",
    "knn.fit(X_train, y_train)\n"
   ]
  },
  {
   "cell_type": "markdown",
   "id": "616b7159",
   "metadata": {
    "papermill": {
     "duration": 0.0045,
     "end_time": "2024-10-23T04:12:03.527334",
     "exception": false,
     "start_time": "2024-10-23T04:12:03.522834",
     "status": "completed"
    },
    "tags": []
   },
   "source": [
    "## Make Predictions (Testing the Model)"
   ]
  },
  {
   "cell_type": "code",
   "execution_count": 6,
   "id": "58e6cda6",
   "metadata": {
    "execution": {
     "iopub.execute_input": "2024-10-23T04:12:03.539373Z",
     "iopub.status.busy": "2024-10-23T04:12:03.538935Z",
     "iopub.status.idle": "2024-10-23T04:12:03.552595Z",
     "shell.execute_reply": "2024-10-23T04:12:03.551173Z"
    },
    "papermill": {
     "duration": 0.022838,
     "end_time": "2024-10-23T04:12:03.555629",
     "exception": false,
     "start_time": "2024-10-23T04:12:03.532791",
     "status": "completed"
    },
    "tags": []
   },
   "outputs": [],
   "source": [
    "# Make predictions on the test set\n",
    "y_pred = knn.predict(X_test)\n"
   ]
  },
  {
   "cell_type": "markdown",
   "id": "504f0f01",
   "metadata": {
    "papermill": {
     "duration": 0.005246,
     "end_time": "2024-10-23T04:12:03.565599",
     "exception": false,
     "start_time": "2024-10-23T04:12:03.560353",
     "status": "completed"
    },
    "tags": []
   },
   "source": [
    "## Evaluate the Model"
   ]
  },
  {
   "cell_type": "code",
   "execution_count": 7,
   "id": "1988335f",
   "metadata": {
    "collapsed": true,
    "execution": {
     "iopub.execute_input": "2024-10-23T04:12:03.578254Z",
     "iopub.status.busy": "2024-10-23T04:12:03.577774Z",
     "iopub.status.idle": "2024-10-23T04:12:03.596554Z",
     "shell.execute_reply": "2024-10-23T04:12:03.595033Z"
    },
    "jupyter": {
     "outputs_hidden": true
    },
    "papermill": {
     "duration": 0.028726,
     "end_time": "2024-10-23T04:12:03.599673",
     "exception": false,
     "start_time": "2024-10-23T04:12:03.570947",
     "status": "completed"
    },
    "tags": []
   },
   "outputs": [
    {
     "name": "stdout",
     "output_type": "stream",
     "text": [
      "Accuracy: 1.00\n",
      "Classification Report:\n",
      "                  precision    recall  f1-score   support\n",
      "\n",
      "    Iris-setosa       1.00      1.00      1.00        10\n",
      "Iris-versicolor       1.00      1.00      1.00         9\n",
      " Iris-virginica       1.00      1.00      1.00        11\n",
      "\n",
      "       accuracy                           1.00        30\n",
      "      macro avg       1.00      1.00      1.00        30\n",
      "   weighted avg       1.00      1.00      1.00        30\n",
      "\n"
     ]
    }
   ],
   "source": [
    "# Calculate the accuracy of the model\n",
    "accuracy = accuracy_score(y_test, y_pred)\n",
    "print(f\"Accuracy: {accuracy:.2f}\")\n",
    "\n",
    "\n",
    "# Generate the classification report\n",
    "report = classification_report(y_test, y_pred)\n",
    "print(\"Classification Report:\\n\", report)\n"
   ]
  },
  {
   "cell_type": "markdown",
   "id": "3a65bafe",
   "metadata": {
    "papermill": {
     "duration": 0.004473,
     "end_time": "2024-10-23T04:12:03.608887",
     "exception": false,
     "start_time": "2024-10-23T04:12:03.604414",
     "status": "completed"
    },
    "tags": []
   },
   "source": [
    "## Visualize the Results"
   ]
  },
  {
   "cell_type": "code",
   "execution_count": 8,
   "id": "852ad023",
   "metadata": {
    "execution": {
     "iopub.execute_input": "2024-10-23T04:12:03.620840Z",
     "iopub.status.busy": "2024-10-23T04:12:03.620365Z",
     "iopub.status.idle": "2024-10-23T04:12:04.017344Z",
     "shell.execute_reply": "2024-10-23T04:12:04.015288Z"
    },
    "papermill": {
     "duration": 0.406494,
     "end_time": "2024-10-23T04:12:04.020159",
     "exception": true,
     "start_time": "2024-10-23T04:12:03.613665",
     "status": "failed"
    },
    "tags": []
   },
   "outputs": [
    {
     "ename": "NameError",
     "evalue": "name 'cm' is not defined",
     "output_type": "error",
     "traceback": [
      "\u001b[0;31m---------------------------------------------------------------------------\u001b[0m",
      "\u001b[0;31mNameError\u001b[0m                                 Traceback (most recent call last)",
      "Cell \u001b[0;32mIn[8], line 3\u001b[0m\n\u001b[1;32m      1\u001b[0m \u001b[38;5;66;03m# Visualize the confusion matrix using a heatmap\u001b[39;00m\n\u001b[1;32m      2\u001b[0m plt\u001b[38;5;241m.\u001b[39mfigure(figsize\u001b[38;5;241m=\u001b[39m(\u001b[38;5;241m6\u001b[39m,\u001b[38;5;241m4\u001b[39m))\n\u001b[0;32m----> 3\u001b[0m sns\u001b[38;5;241m.\u001b[39mheatmap(\u001b[43mcm\u001b[49m, annot\u001b[38;5;241m=\u001b[39m\u001b[38;5;28;01mTrue\u001b[39;00m, fmt\u001b[38;5;241m=\u001b[39m\u001b[38;5;124m'\u001b[39m\u001b[38;5;124md\u001b[39m\u001b[38;5;124m'\u001b[39m, cmap\u001b[38;5;241m=\u001b[39m\u001b[38;5;124m'\u001b[39m\u001b[38;5;124mBlues\u001b[39m\u001b[38;5;124m'\u001b[39m, xticklabels\u001b[38;5;241m=\u001b[39miris\u001b[38;5;241m.\u001b[39mtarget_names, yticklabels\u001b[38;5;241m=\u001b[39miris\u001b[38;5;241m.\u001b[39mtarget_names)\n\u001b[1;32m      4\u001b[0m plt\u001b[38;5;241m.\u001b[39mylabel(\u001b[38;5;124m'\u001b[39m\u001b[38;5;124mActual\u001b[39m\u001b[38;5;124m'\u001b[39m)\n\u001b[1;32m      5\u001b[0m plt\u001b[38;5;241m.\u001b[39mxlabel(\u001b[38;5;124m'\u001b[39m\u001b[38;5;124mPredicted\u001b[39m\u001b[38;5;124m'\u001b[39m)\n",
      "\u001b[0;31mNameError\u001b[0m: name 'cm' is not defined"
     ]
    },
    {
     "data": {
      "text/plain": [
       "<Figure size 600x400 with 0 Axes>"
      ]
     },
     "metadata": {},
     "output_type": "display_data"
    }
   ],
   "source": [
    "# Visualize the confusion matrix using a heatmap\n",
    "plt.figure(figsize=(6,4))\n",
    "sns.heatmap(cm, annot=True, fmt='d', cmap='Blues', xticklabels=iris.target_names, yticklabels=iris.target_names)\n",
    "plt.ylabel('Actual')\n",
    "plt.xlabel('Predicted')\n",
    "plt.title('Confusion Matrix')\n",
    "plt.show()\n"
   ]
  }
 ],
 "metadata": {
  "kaggle": {
   "accelerator": "none",
   "dataSources": [],
   "dockerImageVersionId": 30786,
   "isGpuEnabled": false,
   "isInternetEnabled": false,
   "language": "python",
   "sourceType": "notebook"
  },
  "kernelspec": {
   "display_name": "Python 3",
   "language": "python",
   "name": "python3"
  },
  "language_info": {
   "codemirror_mode": {
    "name": "ipython",
    "version": 3
   },
   "file_extension": ".py",
   "mimetype": "text/x-python",
   "name": "python",
   "nbconvert_exporter": "python",
   "pygments_lexer": "ipython3",
   "version": "3.10.14"
  },
  "papermill": {
   "default_parameters": {},
   "duration": 8.155524,
   "end_time": "2024-10-23T04:12:04.850398",
   "environment_variables": {},
   "exception": true,
   "input_path": "__notebook__.ipynb",
   "output_path": "__notebook__.ipynb",
   "parameters": {},
   "start_time": "2024-10-23T04:11:56.694874",
   "version": "2.6.0"
  }
 },
 "nbformat": 4,
 "nbformat_minor": 5
}
